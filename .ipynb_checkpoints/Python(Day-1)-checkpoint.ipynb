{
 "cells": [
  {
   "cell_type": "code",
   "execution_count": null,
   "metadata": {},
   "outputs": [],
   "source": [
    "# Day objectives:\n",
    "- installation\n",
    "- python introduction\n",
    "- jupyter notebook\n",
    "- markdown format"
   ]
  },
  {
   "cell_type": "code",
   "execution_count": null,
   "metadata": {},
   "outputs": [],
   "source": [
    "a- above\n",
    "b- below\n",
    "To Run the program - shift+Enter"
   ]
  },
  {
   "cell_type": "code",
   "execution_count": 2,
   "metadata": {},
   "outputs": [
    {
     "name": "stdout",
     "output_type": "stream",
     "text": [
      "Hello Everyone\n"
     ]
    }
   ],
   "source": [
    "print(\"Hello Everyone\")"
   ]
  },
  {
   "cell_type": "markdown",
   "metadata": {},
   "source": [
    "# heading1\n",
    "## heading2\n",
    "### heading3\n",
    "#### heading4\n",
    "##### heading5\n",
    "###### heading6\n",
    "####### heading"
   ]
  },
  {
   "cell_type": "markdown",
   "metadata": {},
   "source": [
    "* python"
   ]
  },
  {
   "cell_type": "markdown",
   "metadata": {},
   "source": [
    "* **bold**\n",
    "* *italic*\n",
    "* ***bolditalic***"
   ]
  },
  {
   "cell_type": "markdown",
   "metadata": {},
   "source": [
    "* Normal text\n",
    "    * sublist1\n",
    "    * sublist2"
   ]
  },
  {
   "cell_type": "markdown",
   "metadata": {},
   "source": [
    "1. ordered list1\n",
    "2. ordered list2"
   ]
  },
  {
   "cell_type": "markdown",
   "metadata": {},
   "source": [
    "Python introduction:"
   ]
  },
  {
   "cell_type": "code",
   "execution_count": null,
   "metadata": {},
   "outputs": [],
   "source": [
    "# what is python:\n",
    "- python is a simple,general purpose,interpreted scripting language,highlevel,object oriented language.\n",
    "- Created by Guido van Rossum and first released in 1991\n",
    "- guido van rossum started implementing python in  1989, and released in 1991"
   ]
  },
  {
   "cell_type": "code",
   "execution_count": null,
   "metadata": {},
   "outputs": [],
   "source": [
    "# why python named as python?\n",
    "- the name came from BBC's comedy television show -'monty python's flying circus(from 1970's)\n",
    "as he was a big fan of the tv show."
   ]
  },
  {
   "cell_type": "code",
   "execution_count": null,
   "metadata": {},
   "outputs": [],
   "source": [
    "# python features:\n",
    "1) easy syntax to learn and use\n",
    "2) expressive language(more understandable and more readable)\n",
    "3) interpreted language(it will execute line by line)# it will check line by line\n",
    "4) cross-platform language\n",
    "5) free and opensource\n",
    "6) object-oriented\n",
    "7) extensible\n",
    "8) large standard library\n",
    "9) gui programming support\n",
    "10)integrated\n",
    "11)dynamically typed language(idt doesn't know about)"
   ]
  },
  {
   "cell_type": "code",
   "execution_count": null,
   "metadata": {},
   "outputs": [],
   "source": [
    "# applictions of python?\n",
    "1) webdevelopment(google,youtube,instgram,dropbox....etc)\n",
    "2) data science\n",
    "3) data visualization\n",
    "4) scientific computing\n",
    "5) machine learning\n",
    "6) gui based applicatons\n",
    "7) game development\n",
    "8) artificial intelligence\n",
    "9) enterprise applications\n",
    "10) buisness applications\n",
    "11) multi media\n",
    "12) software development.....etc"
   ]
  },
  {
   "cell_type": "code",
   "execution_count": null,
   "metadata": {},
   "outputs": [],
   "source": [
    "# python versions:\n",
    "- python 1.0 jan 1994\n",
    "- python 2.0 oct 2000\n",
    "- python 3.0 dec 2008\n",
    "- python 3.8.5 july 2020(latest version)"
   ]
  },
  {
   "cell_type": "code",
   "execution_count": 4,
   "metadata": {},
   "outputs": [
    {
     "name": "stdout",
     "output_type": "stream",
     "text": [
      "1\n",
      "12\n",
      "123\n",
      "1234\n",
      "12345\n",
      "2\n",
      "23\n",
      "234\n",
      "2345\n",
      "3\n",
      "34\n",
      "345\n",
      "4\n",
      "45\n"
     ]
    }
   ],
   "source": [
    "n=5\n",
    "i1=1\n",
    "while(i1<n):\n",
    "    for i in range(i1,n+1):\n",
    "        for j in range(i1,i+1):\n",
    "            print(j,end=\"\")\n",
    "        print(sep=\"\")\n",
    "    i1=i1+1"
   ]
  }
 ],
 "metadata": {
  "kernelspec": {
   "display_name": "Python 3",
   "language": "python",
   "name": "python3"
  },
  "language_info": {
   "codemirror_mode": {
    "name": "ipython",
    "version": 3
   },
   "file_extension": ".py",
   "mimetype": "text/x-python",
   "name": "python",
   "nbconvert_exporter": "python",
   "pygments_lexer": "ipython3",
   "version": "3.8.3"
  }
 },
 "nbformat": 4,
 "nbformat_minor": 4
}

{
 "cells": [
  {
   "cell_type": "markdown",
   "metadata": {},
   "source": [
    "- Iterations(loops)\n",
    "    - repeats sequence of instructions until the condition statisfies\n",
    "- Advantages\n",
    "    - code reusability\n",
    "    - do not need to write the same code again and again\n",
    "    - traverse over elements in data structures easily\n",
    "- two\n",
    "    - for loop\n",
    "    - while loop"
   ]
  },
  {
   "cell_type": "markdown",
   "metadata": {},
   "source": [
    "- For loop\n",
    "    - execute some part of code until the condition satisfies\n",
    "    - pre tested loop\n",
    "    - syntax\n",
    "        - for iterating_var in sequence:\n",
    "            statements"
   ]
  },
  {
   "cell_type": "code",
   "execution_count": 1,
   "metadata": {},
   "outputs": [
    {
     "name": "stdout",
     "output_type": "stream",
     "text": [
      "p\n",
      "y\n",
      "t\n",
      "h\n",
      "o\n",
      "n\n"
     ]
    }
   ],
   "source": [
    "name = 'python'\n",
    "for char in name:\n",
    "    print(char)"
   ]
  },
  {
   "cell_type": "code",
   "execution_count": 2,
   "metadata": {},
   "outputs": [
    {
     "name": "stdout",
     "output_type": "stream",
     "text": [
      "1\n",
      "2\n",
      "3\n",
      "a\n",
      "b\n"
     ]
    }
   ],
   "source": [
    "l = [1,2,3,'a','b']\n",
    "for i in l:\n",
    "    print(i)"
   ]
  },
  {
   "cell_type": "code",
   "execution_count": 3,
   "metadata": {},
   "outputs": [
    {
     "name": "stdout",
     "output_type": "stream",
     "text": [
      "0\n",
      "1\n",
      "2\n",
      "3\n",
      "4\n",
      "5\n"
     ]
    }
   ],
   "source": [
    "for num in range(6):\n",
    "    print(num)"
   ]
  },
  {
   "cell_type": "code",
   "execution_count": 5,
   "metadata": {},
   "outputs": [
    {
     "name": "stdout",
     "output_type": "stream",
     "text": [
      "1\n",
      "2\n",
      "3\n",
      "4\n",
      "5\n",
      "6\n",
      "7\n",
      "8\n",
      "9\n"
     ]
    }
   ],
   "source": [
    "for num in range(1,10):\n",
    "    print(num)"
   ]
  },
  {
   "cell_type": "code",
   "execution_count": 7,
   "metadata": {},
   "outputs": [
    {
     "name": "stdout",
     "output_type": "stream",
     "text": [
      "1 2 3 4 5 6 7 8 9 "
     ]
    }
   ],
   "source": [
    "for num in range(1,10,1):\n",
    "    print(num,end = \" \")"
   ]
  },
  {
   "cell_type": "code",
   "execution_count": null,
   "metadata": {},
   "outputs": [],
   "source": [
    "# 1 2 3 4 5 6 7 8 9 10\n",
    "# 1 3 5 7 9"
   ]
  },
  {
   "cell_type": "code",
   "execution_count": 8,
   "metadata": {},
   "outputs": [
    {
     "name": "stdout",
     "output_type": "stream",
     "text": [
      "1 3 5 7 9 "
     ]
    }
   ],
   "source": [
    "for num in range(1,11,2):\n",
    "    print(num, end = \" \")"
   ]
  },
  {
   "cell_type": "code",
   "execution_count": null,
   "metadata": {},
   "outputs": [],
   "source": [
    "2 * 1 = 2\n",
    "2 * 2 = 4"
   ]
  },
  {
   "cell_type": "code",
   "execution_count": 9,
   "metadata": {},
   "outputs": [
    {
     "name": "stdout",
     "output_type": "stream",
     "text": [
      "Enter a table number: 2\n",
      "Enter multiples: 5\n",
      "2 * 1 = 2\n",
      "2 * 2 = 4\n",
      "2 * 3 = 6\n",
      "2 * 4 = 8\n",
      "2 * 5 = 10\n"
     ]
    }
   ],
   "source": [
    "# table format\n",
    "num = int(input(\"Enter a table number: \"))\n",
    "mul = int(input(\"Enter multiples: \"))\n",
    "for t in range(1,mul+1):\n",
    "    print(num,\"*\",t,\"=\",num*t)"
   ]
  },
  {
   "cell_type": "markdown",
   "metadata": {},
   "source": [
    "- syntax\n",
    "    - for iterating_var in sequence:\n",
    "        for iteratinf_var insequence:\n",
    "            statements\n",
    "        statements"
   ]
  },
  {
   "cell_type": "code",
   "execution_count": 11,
   "metadata": {},
   "outputs": [
    {
     "name": "stdout",
     "output_type": "stream",
     "text": [
      "1  \n",
      "2 2  \n",
      "3 3 3  \n",
      "4 4 4 4  \n",
      "5 5 5 5 5  \n",
      "6 6 6 6 6 6  \n",
      "7 7 7 7 7 7 7  \n",
      "8 8 8 8 8 8 8 8  \n",
      "9 9 9 9 9 9 9 9 9  \n"
     ]
    }
   ],
   "source": [
    "# Basic example\n",
    "for i in range(1,10):\n",
    "    for j in range(0,i):\n",
    "        print(i,end = \" \")\n",
    "    print(\" \")"
   ]
  },
  {
   "cell_type": "code",
   "execution_count": 21,
   "metadata": {},
   "outputs": [
    {
     "name": "stdout",
     "output_type": "stream",
     "text": [
      "1 1 1 1 1 1 1 1 1  \n",
      "2 2 2 2 2 2 2 2  \n",
      "3 3 3 3 3 3 3  \n",
      "4 4 4 4 4 4  \n",
      "5 5 5 5 5  \n",
      "6 6 6 6  \n",
      "7 7 7  \n",
      "8 8  \n",
      "9  \n"
     ]
    }
   ],
   "source": [
    "for i in range(1,10):\n",
    "    for j in range(-1,j):\n",
    "        print(i,end = \" \")\n",
    "    print(\" \")"
   ]
  },
  {
   "cell_type": "code",
   "execution_count": 23,
   "metadata": {},
   "outputs": [
    {
     "name": "stdout",
     "output_type": "stream",
     "text": [
      "1 1 1 1 1  \n",
      "2 2 2 2  \n",
      "3 3 3  \n",
      "4 4  \n",
      "5  \n"
     ]
    }
   ],
   "source": [
    "for i in range(1,6):\n",
    "    for j in range(5,i-1,-1):\n",
    "        print(i,end = \" \")\n",
    "    print(\" \")"
   ]
  },
  {
   "cell_type": "code",
   "execution_count": 25,
   "metadata": {},
   "outputs": [
    {
     "name": "stdout",
     "output_type": "stream",
     "text": [
      "*  \n",
      "* *  \n",
      "* * *  \n",
      "* * * *  \n",
      "* * * * *  \n",
      "* * * *  \n",
      "* * *  \n",
      "* *  \n",
      "*  \n",
      " \n"
     ]
    }
   ],
   "source": [
    "rows = 5\n",
    "for i in range(0,rows):\n",
    "    for j in range(0,i+1):\n",
    "        print(\"*\",end=\" \")\n",
    "    print(\" \")\n",
    "for i in range(rows,0,-1):\n",
    "    for j in range(0,i-1):\n",
    "        print(\"*\",end=\" \")\n",
    "    print(\" \")"
   ]
  },
  {
   "cell_type": "code",
   "execution_count": 27,
   "metadata": {},
   "outputs": [
    {
     "name": "stdout",
     "output_type": "stream",
     "text": [
      "Enter lower range: 1\n",
      "Enter upper range: 10\n",
      "1 not prime\n",
      "2 prime\n",
      "3 prime\n",
      "4 not prime\n",
      "5 prime\n",
      "6 not prime\n",
      "7 prime\n",
      "8 not prime\n",
      "9 not prime\n",
      "10 not prime\n"
     ]
    }
   ],
   "source": [
    "# prime numbers in a range\n",
    "lower = int(input(\"Enter lower range: \"))#1\n",
    "upper = int(input(\"Enter upper range: \"))#10\n",
    "for num in range(lower,upper+1):# 1 2 3 4 5 6 7 8 9 10\n",
    "    c = 0\n",
    "    for i in range(1,num+1):# 1 1 2 \n",
    "        if num % i == 0:\n",
    "            c += 1\n",
    "    if c == 2:\n",
    "        print(i,\"prime\")\n",
    "    else:\n",
    "        print(i,\"not prime\")"
   ]
  },
  {
   "cell_type": "markdown",
   "metadata": {},
   "source": [
    "- while loop\n",
    "    - where we dont know iterartions in advance\n",
    "    - statements in while loop executed until the condition is satisfied in while\n",
    "    - syntax\n",
    "        - whiel condition:\n",
    "            statements\n",
    "            increment"
   ]
  },
  {
   "cell_type": "code",
   "execution_count": 1,
   "metadata": {},
   "outputs": [
    {
     "name": "stdout",
     "output_type": "stream",
     "text": [
      "2\n",
      "3\n",
      "4\n"
     ]
    }
   ],
   "source": [
    "# Example For While loop\n",
    "num = 2\n",
    "while num < 5:\n",
    "    print(num)\n",
    "    num = num + 1"
   ]
  },
  {
   "cell_type": "code",
   "execution_count": 2,
   "metadata": {},
   "outputs": [
    {
     "name": "stdout",
     "output_type": "stream",
     "text": [
      "1 2 3 4 5 6 7 8 9 10 "
     ]
    }
   ],
   "source": [
    "# print natural numbers using while\n",
    "i = 1\n",
    "n = 10\n",
    "while i <= n:\n",
    "    print(i,end=\" \")\n",
    "    i += 1"
   ]
  },
  {
   "cell_type": "code",
   "execution_count": 4,
   "metadata": {},
   "outputs": [
    {
     "name": "stdout",
     "output_type": "stream",
     "text": [
      "3\n",
      "4\n",
      "5\n",
      "6\n"
     ]
    }
   ],
   "source": [
    "n = 2\n",
    "while n<6:\n",
    "    n+=1\n",
    "    print(n)"
   ]
  },
  {
   "cell_type": "markdown",
   "metadata": {},
   "source": [
    "- Jump Statements(Key words in Python)\n",
    "    - used to alter th f;ow of loop like to skip a part of loop or terminate a loop\n",
    "    - break\n",
    "    - continue\n",
    "    - pass"
   ]
  },
  {
   "cell_type": "markdown",
   "metadata": {},
   "source": [
    "- Break\n",
    "    - Terminates the loop statement and transfer the execution to the statement immediately following the loop\n",
    "    - used in both for and while loop\n",
    "    - used in nested loops, stops the execution of innermost loop"
   ]
  },
  {
   "cell_type": "code",
   "execution_count": 5,
   "metadata": {},
   "outputs": [
    {
     "name": "stdout",
     "output_type": "stream",
     "text": [
      "current letter: p\n",
      "current letter: y\n",
      "current letter: t\n"
     ]
    }
   ],
   "source": [
    "# basic using for\n",
    "for letter in 'python':# p y t h o n\n",
    "    if letter == 'h':#\n",
    "        break\n",
    "    print('current letter:',letter)# p y t"
   ]
  },
  {
   "cell_type": "code",
   "execution_count": 1,
   "metadata": {},
   "outputs": [
    {
     "name": "stdout",
     "output_type": "stream",
     "text": [
      "Current value:  10\n",
      "Current value:  9\n",
      "Current value:  8\n",
      "Current value:  7\n",
      "Current value:  6\n",
      "Good bye...\n"
     ]
    }
   ],
   "source": [
    "# basci using while loop\n",
    "num = 10\n",
    "while num > 0:\n",
    "    print(\"Current value: \",num)\n",
    "    num -= 1\n",
    "    if num == 5:\n",
    "        break\n",
    "print(\"Good bye...\")"
   ]
  },
  {
   "cell_type": "markdown",
   "metadata": {},
   "source": [
    "- Continue\n",
    "    - rejects all the remaining statements in current iterations of the loop\n",
    "    - moves control back to top of the loop"
   ]
  },
  {
   "cell_type": "code",
   "execution_count": 2,
   "metadata": {},
   "outputs": [
    {
     "name": "stdout",
     "output_type": "stream",
     "text": [
      "Current letter: p\n",
      "Current letter: y\n",
      "Current letter: t\n",
      "Current letter: o\n",
      "Current letter: n\n"
     ]
    }
   ],
   "source": [
    "# basic using for\n",
    "for letter in 'python':\n",
    "    if letter == 'h':\n",
    "        continue\n",
    "    print(\"Current letter:\", letter)"
   ]
  },
  {
   "cell_type": "code",
   "execution_count": 6,
   "metadata": {},
   "outputs": [
    {
     "name": "stdout",
     "output_type": "stream",
     "text": [
      "current value:  9\n",
      "current value:  8\n",
      "current value:  7\n",
      "current value:  6\n",
      "current value:  4\n",
      "current value:  3\n",
      "current value:  2\n",
      "current value:  1\n",
      "current value:  0\n",
      "Good bye.......\n"
     ]
    }
   ],
   "source": [
    "# using while\n",
    "num = 10\n",
    "while num > 0:\n",
    "    num = num - 1\n",
    "    if num == 5:\n",
    "        continue\n",
    "    print('current value: ',num)\n",
    "print('Good bye.......')"
   ]
  },
  {
   "cell_type": "markdown",
   "metadata": {},
   "source": [
    "- Pass\n",
    "    - perform null operation, nothing happens when it executes\n",
    "    - useful in places where code will eventually\n",
    "    - differene between pass and comment\n",
    " - Interpreter ignores the comment completely\n",
    " - but it doesn't ignore pass statement\n"
   ]
  },
  {
   "cell_type": "code",
   "execution_count": null,
   "metadata": {},
   "outputs": [],
   "source": [
    "num = int(input())\n",
    "if num < 10:\n",
    " print(num)\n",
    "else:\n",
    " pass"
   ]
  },
  {
   "cell_type": "code",
   "execution_count": 6,
   "metadata": {},
   "outputs": [
    {
     "name": "stdout",
     "output_type": "stream",
     "text": [
      "pass block\n",
      "current letter:  p\n",
      "pass block\n",
      "current letter:  y\n",
      "pass block\n",
      "current letter:  t\n",
      "pass block\n",
      "current letter:  h\n",
      "pass block\n",
      "current letter:  o\n",
      "pass block\n",
      "current letter:  n\n",
      "Good bye...\n"
     ]
    }
   ],
   "source": [
    "for letter in 'python':\n",
    " if letter == 'h':\n",
    "     pass\n",
    " print('pass block')\n",
    " print('current letter: ',letter)\n",
    "print('Good bye...')"
   ]
  },
  {
   "cell_type": "markdown",
   "metadata": {},
   "source": [
    "- Tasks\n",
    " - print all tables in range using nested for\n",
    " - input - 4\n",
    " - multiples - 5\n",
    " - 1 * 1 = 1 2 * 1 = 2 3 * 1 = 3\n",
    " - 1 * 2 = 2\n",
    " - 1 * 3 = 3\n",
    " - 1 * 4 = 4\n",
    " - 1 * 5 = 5\n",
    " - print even or odd numbers in range using while\n",
    " - print prime numbers in range using jump statement"
   ]
  }
 ],
 "metadata": {
  "kernelspec": {
   "display_name": "Python 3",
   "language": "python",
   "name": "python3"
  },
  "language_info": {
   "codemirror_mode": {
    "name": "ipython",
    "version": 3
   },
   "file_extension": ".py",
   "mimetype": "text/x-python",
   "name": "python",
   "nbconvert_exporter": "python",
   "pygments_lexer": "ipython3",
   "version": "3.8.3"
  }
 },
 "nbformat": 4,
 "nbformat_minor": 4
}

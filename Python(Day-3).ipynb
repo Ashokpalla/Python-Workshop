{
 "cells": [
  {
   "cell_type": "markdown",
   "metadata": {},
   "source": [
    "- Statement\n",
    "    -unit of code that python interpreter can execute\n",
    "    -two types of statements\n",
    "        -print statement\n",
    "        -Assignment\n",
    "- Operators\n",
    "    -operator\n",
    "        -used to perform oprations on variables and values\n",
    "    -operand\n",
    "        -value of operator applied\n",
    "    -Expression\n",
    "        -combinator or sequence of operators and operand\n",
    "- operators in python\n",
    "    - Arithmetic operators\n",
    "    - Assignnment operators\n",
    "    - Logical operators\n",
    "    - Comparision operators\n",
    "    - Identity operators\n",
    "    - Membeship operators\n",
    "    - Bitwise operators\n",
    "- Conditional Statements"
   ]
  },
  {
   "cell_type": "code",
   "execution_count": 2,
   "metadata": {},
   "outputs": [
    {
     "name": "stdout",
     "output_type": "stream",
     "text": [
      "Enter number1: 30\n",
      "Enter number2: 10\n",
      "40\n",
      "20\n",
      "3.0\n",
      "300\n",
      "3.0\n",
      "0\n",
      "3\n",
      "590490000000000\n"
     ]
    }
   ],
   "source": [
    "# Arithmatic operators\n",
    "# +,-,*,/,%,//,**\n",
    "num1 = int(input(\"Enter number1: \"))\n",
    "num2 = int(input(\"Enter number2: \"))\n",
    "add = num1 + num2\n",
    "sub = num1 - num2\n",
    "mul = num1 * num2\n",
    "div = num1 / num2\n",
    "mod = num1 % num2\n",
    "fdiv = num1 // num2\n",
    "exp = num1 ** num2\n",
    "print(add)\n",
    "print(sub)\n",
    "print(div)\n",
    "print(mul)\n",
    "print(div)\n",
    "print(mod)\n",
    "print(fdiv)\n",
    "print(exp)"
   ]
  },
  {
   "cell_type": "code",
   "execution_count": 3,
   "metadata": {},
   "outputs": [
    {
     "data": {
      "text/plain": [
       "15"
      ]
     },
     "execution_count": 3,
     "metadata": {},
     "output_type": "execute_result"
    }
   ],
   "source": [
    "# Assignment oprators\n",
    "# used to assign values\n",
    "# +=,-=,*=,/=.%=,//=,**=\n",
    "a = 10\n",
    "b = 5\n",
    "a += b # a = a + b\n",
    "a"
   ]
  },
  {
   "cell_type": "code",
   "execution_count": 4,
   "metadata": {},
   "outputs": [
    {
     "data": {
      "text/plain": [
       "10"
      ]
     },
     "execution_count": 4,
     "metadata": {},
     "output_type": "execute_result"
    }
   ],
   "source": [
    "a -= b # a = a - b\n",
    "a"
   ]
  },
  {
   "cell_type": "code",
   "execution_count": 5,
   "metadata": {},
   "outputs": [
    {
     "data": {
      "text/plain": [
       "50"
      ]
     },
     "execution_count": 5,
     "metadata": {},
     "output_type": "execute_result"
    }
   ],
   "source": [
    "a  *= b\n",
    "a"
   ]
  },
  {
   "cell_type": "code",
   "execution_count": 6,
   "metadata": {},
   "outputs": [
    {
     "data": {
      "text/plain": [
       "10.0"
      ]
     },
     "execution_count": 6,
     "metadata": {},
     "output_type": "execute_result"
    }
   ],
   "source": [
    "a /= b\n",
    "a"
   ]
  },
  {
   "cell_type": "code",
   "execution_count": 7,
   "metadata": {},
   "outputs": [
    {
     "data": {
      "text/plain": [
       "0.0"
      ]
     },
     "execution_count": 7,
     "metadata": {},
     "output_type": "execute_result"
    }
   ],
   "source": [
    "a %= b\n",
    "a"
   ]
  },
  {
   "cell_type": "code",
   "execution_count": 8,
   "metadata": {},
   "outputs": [
    {
     "data": {
      "text/plain": [
       "0.0"
      ]
     },
     "execution_count": 8,
     "metadata": {},
     "output_type": "execute_result"
    }
   ],
   "source": [
    "a // b\n",
    "a"
   ]
  },
  {
   "cell_type": "code",
   "execution_count": 9,
   "metadata": {},
   "outputs": [
    {
     "data": {
      "text/plain": [
       "0.0"
      ]
     },
     "execution_count": 9,
     "metadata": {},
     "output_type": "execute_result"
    }
   ],
   "source": [
    "a **= b\n",
    "a"
   ]
  },
  {
   "cell_type": "markdown",
   "metadata": {},
   "source": [
    "- Boolean represents True or False\n",
    "    - returns True\n",
    "        - string,number,list,tuple,dictionary\n",
    "    - returns False\n",
    "        - Any number is True\n",
    "    - returns False\n",
    "        - empty string,list,tuple,dictionary,False,None"
   ]
  },
  {
   "cell_type": "code",
   "execution_count": 11,
   "metadata": {},
   "outputs": [
    {
     "name": "stdout",
     "output_type": "stream",
     "text": [
      "True\n",
      "True\n",
      "True\n",
      "True\n",
      "True\n",
      "True\n"
     ]
    }
   ],
   "source": [
    "print(bool('abc'))\n",
    "print(bool(56))\n",
    "print(bool(90.8))\n",
    "print(bool([1,2,3,'a']))\n",
    "print(bool((1,2,3,'a')))\n",
    "print(bool({'a':'123'}))"
   ]
  },
  {
   "cell_type": "code",
   "execution_count": 12,
   "metadata": {},
   "outputs": [
    {
     "name": "stdout",
     "output_type": "stream",
     "text": [
      "False\n",
      "False\n",
      "False\n",
      "False\n",
      "False\n"
     ]
    }
   ],
   "source": [
    "print(bool(''))\n",
    "print(bool(0))\n",
    "print(bool([]))\n",
    "print(bool(None))\n",
    "print(bool(False))"
   ]
  },
  {
   "cell_type": "code",
   "execution_count": 13,
   "metadata": {},
   "outputs": [
    {
     "name": "stdout",
     "output_type": "stream",
     "text": [
      "False\n",
      "True\n",
      "False\n",
      "True\n",
      "False\n",
      "True\n"
     ]
    }
   ],
   "source": [
    "# Comparision Opearators\n",
    "# ==,>,<,<=,>=,!=\n",
    "a = 2\n",
    "b = 5\n",
    "print(a == b)\n",
    "print(a != b)\n",
    "print(a > b)\n",
    "print(a < b)\n",
    "print(a >= b)\n",
    "print(a <= b)"
   ]
  },
  {
   "cell_type": "code",
   "execution_count": 14,
   "metadata": {},
   "outputs": [
    {
     "name": "stdout",
     "output_type": "stream",
     "text": [
      "True\n",
      "False\n",
      "True\n"
     ]
    }
   ],
   "source": [
    "# membership Operators(in,not in)\n",
    "# used to test a sequence in object\n",
    "course = 'python'\n",
    "print('p' in 'python123')\n",
    "print('z' in course)\n",
    "print('z' not in course)\n"
   ]
  },
  {
   "cell_type": "code",
   "execution_count": 15,
   "metadata": {},
   "outputs": [
    {
     "name": "stdout",
     "output_type": "stream",
     "text": [
      "True\n",
      "True\n",
      "True\n"
     ]
    }
   ],
   "source": [
    "# Identity Operators(is, is not)\n",
    "# used to copare objects\n",
    "a = 'python'\n",
    "b = 'python'\n",
    "c = a\n",
    "print(a is b)\n",
    "print(a is c)\n",
    "print(a == c)"
   ]
  },
  {
   "cell_type": "code",
   "execution_count": 17,
   "metadata": {},
   "outputs": [
    {
     "name": "stdout",
     "output_type": "stream",
     "text": [
      "True\n",
      "True\n",
      "True\n"
     ]
    }
   ],
   "source": [
    "d = ['a','b','c']\n",
    "e = ['a','b','c']\n",
    "f = d\n",
    "print(d is e)\n",
    "print(d is f)\n",
    "print(d == f)"
   ]
  },
  {
   "cell_type": "markdown",
   "metadata": {},
   "source": [
    "And(*)  Or(+)    Not\n",
    "      \n",
    "0|0|0   0|0|0  \n",
    "0|1|0   0|1|1\n",
    "1|0|0   1|0|1\n",
    "1|1|1   1|1|1"
   ]
  },
  {
   "cell_type": "code",
   "execution_count": 19,
   "metadata": {},
   "outputs": [
    {
     "name": "stdout",
     "output_type": "stream",
     "text": [
      "False\n",
      "True\n"
     ]
    }
   ],
   "source": [
    "print(not(True))\n",
    "print(not(False))"
   ]
  },
  {
   "cell_type": "code",
   "execution_count": 18,
   "metadata": {},
   "outputs": [
    {
     "name": "stdout",
     "output_type": "stream",
     "text": [
      "True\n",
      "True\n",
      "False\n"
     ]
    }
   ],
   "source": [
    "# Logical Operators(And,Or,Not)\n",
    "# used to combine with conditional statements\n",
    "# and returns True both are True(1) else returns False\n",
    "# or returns True if any one is True\n",
    "# not -- Reverse the result\n",
    "a=5\n",
    "print(a > 2 and a < 10)\n",
    "print(a > 2 or a < 10)\n",
    "print(not(a > 2 or a< 10))"
   ]
  },
  {
   "cell_type": "code",
   "execution_count": null,
   "metadata": {},
   "outputs": [],
   "source": [
    "Xor\n",
    "0|0|0\n",
    "0|1|1\n",
    "1|0|1\n",
    "1|1|0"
   ]
  },
  {
   "cell_type": "code",
   "execution_count": 25,
   "metadata": {},
   "outputs": [
    {
     "name": "stdout",
     "output_type": "stream",
     "text": [
      "0b1010\n",
      "0b10\n",
      "2\n",
      "10\n",
      "8\n",
      "-11\n",
      "2\n",
      "40\n"
     ]
    }
   ],
   "source": [
    "# Bitwise Operators(&,|,^,~,<<,>>)\n",
    "# used to compare binary numbers\n",
    "a = 10 # 1010\n",
    "b =2 #0010\n",
    "print(bin(a))\n",
    "print(bin(b))\n",
    "print(a & b)\n",
    "print(a | b)\n",
    "print(a ^ b)\n",
    "print(~a)#(-(a+1))\n",
    "print(a >> b)\n",
    "print(a << b)\n",
    "#1010\n",
    "#0010\n",
    "#0010"
   ]
  },
  {
   "cell_type": "code",
   "execution_count": null,
   "metadata": {},
   "outputs": [],
   "source": [
    "2^3 2^2 2^1 2^0\n",
    "8    4   2   1\n",
    "0    0   0   0  --0\n",
    "0    0   0   1  --1\n",
    "0    0   1   0  --2\n",
    "0    0   1   1  --3"
   ]
  },
  {
   "cell_type": "markdown",
   "metadata": {},
   "source": [
    "- Conditional Statements\n",
    "    - used for decision making\n",
    "    - if\n",
    "       - synatx\n",
    "           - if condition:\n",
    "               statement\n",
    "    - if else\n",
    "        - syntax\n",
    "            - if condition:\n",
    "                statements\n",
    "              else:\n",
    "                  Statements\n",
    "    - if elif else\n",
    "        - syntax\n",
    "             - if condition:\n",
    "                   statements\n",
    "               elif condition:\n",
    "                   statements:\n",
    "               else:\n",
    "                   statements\n",
    "    - nested if\n",
    "        - synatx\n",
    "            - if condition:\n",
    "                statements\n",
    "              elif condition:\n",
    "                statements\n",
    "              else:\n",
    "                  statements"
   ]
  },
  {
   "cell_type": "code",
   "execution_count": 27,
   "metadata": {},
   "outputs": [
    {
     "name": "stdout",
     "output_type": "stream",
     "text": [
      "20\n",
      "20 is greater than 10\n"
     ]
    }
   ],
   "source": [
    "# Basic Example\n",
    "num = int(input())\n",
    "if num > 10:\n",
    "    print(num,\"is greater than 10\")"
   ]
  },
  {
   "cell_type": "code",
   "execution_count": 28,
   "metadata": {},
   "outputs": [
    {
     "name": "stdout",
     "output_type": "stream",
     "text": [
      "2\n",
      "2 is less than 10\n"
     ]
    }
   ],
   "source": [
    "# Basic example for if else\n",
    "num = int(input())\n",
    "if num > 10:\n",
    "    print(num,\"is greater than 10\")\n",
    "else:\n",
    "    print(num,\"is less than 10\")"
   ]
  },
  {
   "cell_type": "code",
   "execution_count": 29,
   "metadata": {},
   "outputs": [
    {
     "name": "stdout",
     "output_type": "stream",
     "text": [
      "20\n",
      "1\n",
      "10\n",
      "20 is largest\n"
     ]
    }
   ],
   "source": [
    "# Find the largset of three\n",
    "a = int(input())\n",
    "b = int(input())\n",
    "c = int(input())\n",
    "if a > b and a > c:\n",
    "    print(a,\"is largest\")\n",
    "elif b> c:\n",
    "    print(b,\"is largest\")\n",
    "else:\n",
    "    print(c,\"is largest\")"
   ]
  },
  {
   "cell_type": "code",
   "execution_count": 32,
   "metadata": {},
   "outputs": [
    {
     "name": "stdout",
     "output_type": "stream",
     "text": [
      "1\n",
      "Positive\n"
     ]
    }
   ],
   "source": [
    "# Example for nested if\n",
    "#check a number is positive or negative or zero\n",
    "num = int(input())\n",
    "if num >= 0:\n",
    "    if num == 0:\n",
    "        print('Zero')\n",
    "    else:\n",
    "        print('Positive')\n",
    "else:\n",
    "    print('Negative')"
   ]
  },
  {
   "cell_type": "markdown",
   "metadata": {},
   "source": [
    "- Task\n",
    "    - Basic calculator\n",
    "    - check if a year is leap year or not\n",
    "    - check if a number is multiple of 10\n",
    "    - check if a number is factor of 1000\n",
    "    "
   ]
  }
 ],
 "metadata": {
  "kernelspec": {
   "display_name": "Python 3",
   "language": "python",
   "name": "python3"
  },
  "language_info": {
   "codemirror_mode": {
    "name": "ipython",
    "version": 3
   },
   "file_extension": ".py",
   "mimetype": "text/x-python",
   "name": "python",
   "nbconvert_exporter": "python",
   "pygments_lexer": "ipython3",
   "version": "3.8.3"
  }
 },
 "nbformat": 4,
 "nbformat_minor": 4
}

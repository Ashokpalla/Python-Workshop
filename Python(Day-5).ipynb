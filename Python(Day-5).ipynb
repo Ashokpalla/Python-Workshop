{
 "cells": [
  {
   "cell_type": "markdown",
   "metadata": {},
   "source": [
    "# Functions"
   ]
  },
  {
   "cell_type": "code",
   "execution_count": null,
   "metadata": {},
   "outputs": [],
   "source": [
    "Functions:\n",
    "    --> Fucntions is a block of code which runs only when function name\n",
    "        is called as Functions  \n",
    "                            \n",
    "                            ( or )\n",
    "            \n",
    "        Function is a piece of code written to carry out a specified task..\n",
    "    \n",
    "    Advantage:\n",
    "                Code reusabilit...\n",
    "            Reduces chance of error\n",
    "            Divide a complex program into simpler ones"
   ]
  },
  {
   "cell_type": "code",
   "execution_count": null,
   "metadata": {},
   "outputs": [],
   "source": [
    "--> Every function should start with \"def\" keyword...\n",
    "--> Every function shouls have name(no equal to any keyword)\n",
    "--> Parameters/arguments(optional)"
   ]
  },
  {
   "cell_type": "code",
   "execution_count": null,
   "metadata": {},
   "outputs": [],
   "source": [
    "# Types of functions\n",
    "    1.built-in functions: sqrt,print,min,max,len....\n",
    "    2.user defined functions: It can be created by users...\n",
    "        \n",
    "      user defined funtions are 4 types\n",
    "        \n",
    "        1.with argument with return value\n",
    "        2.with argument without return value\n",
    "        3.without argument with return value\n",
    "        4.without argument without return value"
   ]
  },
  {
   "cell_type": "code",
   "execution_count": null,
   "metadata": {},
   "outputs": [],
   "source": [
    "Function Syntax:\n",
    "    def functionname(parameters/arguments): // function definition\n",
    "        statements                          // function body\n",
    "    functionname(parameters/arguments)      // function calling"
   ]
  },
  {
   "cell_type": "code",
   "execution_count": 1,
   "metadata": {},
   "outputs": [
    {
     "data": {
      "text/plain": [
       "79"
      ]
     },
     "execution_count": 1,
     "metadata": {},
     "output_type": "execute_result"
    }
   ],
   "source": [
    "# 1.with argument with return value\n",
    "# adding of two numbers\n",
    "# static way\n",
    "a = 56\n",
    "b = 23\n",
    "def add(a,b):\n",
    "    return a + b\n",
    "add(a,b) // function call"
   ]
  },
  {
   "cell_type": "code",
   "execution_count": 3,
   "metadata": {},
   "outputs": [
    {
     "name": "stdout",
     "output_type": "stream",
     "text": [
      "56\n",
      "41\n"
     ]
    },
    {
     "data": {
      "text/plain": [
       "97"
      ]
     },
     "execution_count": 3,
     "metadata": {},
     "output_type": "execute_result"
    }
   ],
   "source": [
    "# dynamic way\n",
    "a = int(input())\n",
    "b = int(input())\n",
    "def add(a,b):\n",
    "    return a + b\n",
    "add(a,b) "
   ]
  },
  {
   "cell_type": "code",
   "execution_count": 4,
   "metadata": {},
   "outputs": [
    {
     "name": "stdout",
     "output_type": "stream",
     "text": [
      "41.2\n",
      "18.3\n",
      "59.5\n"
     ]
    }
   ],
   "source": [
    "# 2.with argument without return value\n",
    "a = float(input())\n",
    "b = float(input())\n",
    "def add3(a,b):\n",
    "    print(a + b)\n",
    "add3(a,b)"
   ]
  },
  {
   "cell_type": "code",
   "execution_count": 5,
   "metadata": {},
   "outputs": [
    {
     "name": "stdout",
     "output_type": "stream",
     "text": [
      "41\n",
      "42\n"
     ]
    },
    {
     "data": {
      "text/plain": [
       "83"
      ]
     },
     "execution_count": 5,
     "metadata": {},
     "output_type": "execute_result"
    }
   ],
   "source": [
    "# 3.without argument with return value\n",
    "a = int(input())\n",
    "b = int(input())\n",
    "def add4():\n",
    "    return a + b\n",
    "add4()"
   ]
  },
  {
   "cell_type": "code",
   "execution_count": 7,
   "metadata": {},
   "outputs": [
    {
     "name": "stdout",
     "output_type": "stream",
     "text": [
      "11\n",
      "12\n",
      "23\n"
     ]
    }
   ],
   "source": [
    "# 4.without argument without return value\n",
    "a = int(input())\n",
    "b = int(input())\n",
    "def add5():\n",
    "    print(a + b)\n",
    "add5()"
   ]
  },
  {
   "cell_type": "code",
   "execution_count": null,
   "metadata": {},
   "outputs": [],
   "source": [
    "# input: 5\n",
    "# output: odd\n",
    "\n",
    "# input: 4\n",
    "# output: even"
   ]
  },
  {
   "cell_type": "code",
   "execution_count": 9,
   "metadata": {},
   "outputs": [
    {
     "name": "stdout",
     "output_type": "stream",
     "text": [
      "4\n",
      "EVEN\n"
     ]
    }
   ],
   "source": [
    "n = int(input())\n",
    "def evenorodd(n):\n",
    "    if(n%2==0):\n",
    "        print(\"EVEN\")\n",
    "    else:\n",
    "        print(\"ODD\")\n",
    "evenorodd(n)"
   ]
  },
  {
   "cell_type": "code",
   "execution_count": null,
   "metadata": {},
   "outputs": [],
   "source": [
    "# i/p: 5 --->1*2*3*4*5 (or) 5*4*3*2*1=120\n",
    "# o/p: 120"
   ]
  },
  {
   "cell_type": "code",
   "execution_count": 11,
   "metadata": {},
   "outputs": [
    {
     "name": "stdout",
     "output_type": "stream",
     "text": [
      "5\n",
      "120\n"
     ]
    }
   ],
   "source": [
    "n = int(input())\n",
    "f = 1\n",
    "for i in range(1,n+1):  #(1,5)   1        2     3      4       5\n",
    "    f = f * i           #        1*1=1   1*2=2  2*3=6  6*4=24   24*5=120\n",
    "print(f)"
   ]
  },
  {
   "cell_type": "code",
   "execution_count": 12,
   "metadata": {},
   "outputs": [
    {
     "name": "stdout",
     "output_type": "stream",
     "text": [
      "7\n",
      "1\n",
      "2\n",
      "6\n",
      "24\n",
      "120\n",
      "720\n",
      "5040\n"
     ]
    }
   ],
   "source": [
    "n = int(input())\n",
    "f = 1\n",
    "for i in range(1,n+1):  \n",
    "    f = f * i           \n",
    "    print(f)"
   ]
  },
  {
   "cell_type": "code",
   "execution_count": 13,
   "metadata": {},
   "outputs": [
    {
     "name": "stdout",
     "output_type": "stream",
     "text": [
      "6\n",
      "720\n"
     ]
    }
   ],
   "source": [
    "n = int(input())\n",
    "def factorial(n):\n",
    "    f = 1\n",
    "    for i in range(1,n+1):\n",
    "        f = f * i\n",
    "    print(f)\n",
    "factorial(n)"
   ]
  },
  {
   "cell_type": "code",
   "execution_count": null,
   "metadata": {},
   "outputs": [],
   "source": [
    "i/p: # starting range: 1\n",
    "# ending range: 10\n",
    "# output: 5.5"
   ]
  },
  {
   "cell_type": "code",
   "execution_count": 2,
   "metadata": {},
   "outputs": [
    {
     "name": "stdout",
     "output_type": "stream",
     "text": [
      "1\n",
      "10\n"
     ]
    },
    {
     "data": {
      "text/plain": [
       "5.5"
      ]
     },
     "execution_count": 2,
     "metadata": {},
     "output_type": "execute_result"
    }
   ],
   "source": [
    "# average\n",
    "s = int(input())\n",
    "e = int(input())\n",
    "def average(s,e):\n",
    "    s1 = 0\n",
    "    c = 0\n",
    "    for i in range(s,e+1):     # 1        2       3\n",
    "        s1 = s1 + i            # 0+1=1   1+2=3   3+3=6\n",
    "        c = c + 1              # 0+1=1   1+1=2   2+1=3\n",
    "    average = float(s1/c)\n",
    "    #print(average)\n",
    "    return average\n",
    "average(s,e)"
   ]
  },
  {
   "cell_type": "code",
   "execution_count": null,
   "metadata": {},
   "outputs": [],
   "source": [
    "# 6 = 1 2 3 6 = 1 2 3 = 1 + 2 + 3 = 6\n",
    "6 = 1 2 3 4 5 6"
   ]
  },
  {
   "cell_type": "code",
   "execution_count": 3,
   "metadata": {},
   "outputs": [
    {
     "name": "stdout",
     "output_type": "stream",
     "text": [
      "6\n",
      "1 2 3 6 "
     ]
    }
   ],
   "source": [
    "# factors\n",
    "n = int(input())\n",
    "def factors(n):\n",
    "    for i in range(1,n+1):       # 1                 2         3            4            5             6\n",
    "        if(n % i == 0):          # 6%1==0(T)     6%2==0(T)   6%3==0(T)     6%4==0(F)    6%5==0(F)   6%5==0(T)\n",
    "            print(i,end = ' ')\n",
    "factors(n)"
   ]
  },
  {
   "cell_type": "code",
   "execution_count": 7,
   "metadata": {},
   "outputs": [
    {
     "name": "stdout",
     "output_type": "stream",
     "text": [
      "6\n",
      "Perfect Number\n"
     ]
    }
   ],
   "source": [
    "# 6\n",
    "# 1 2 3 6 = 1 2 3 = 1 + 2 + 3 =6\n",
    "# PERFECT NUMBER\n",
    "n = int(input())\n",
    "def perfect(n):\n",
    "    s = 0\n",
    "    for i in range(1,n):    #(1,5)\n",
    "        if(n % i == 0):     # 1        2        3    4(F)     5(F)\n",
    "            s = s + i       #1+1=1   1+2=3     3+3=6              \n",
    "    if(s == n):             #6==6\n",
    "        print(\"Perfect Number\")\n",
    "    else:\n",
    "        print(\"Not Perfect Number\")\n",
    "perfect(n)"
   ]
  },
  {
   "cell_type": "code",
   "execution_count": 8,
   "metadata": {},
   "outputs": [
    {
     "name": "stdout",
     "output_type": "stream",
     "text": [
      "89\n"
     ]
    },
    {
     "data": {
      "text/plain": [
       "False"
      ]
     },
     "execution_count": 8,
     "metadata": {},
     "output_type": "execute_result"
    }
   ],
   "source": [
    "# 6\n",
    "# 1 2 3 6 = 1 2 3 = 1 + 2 + 3 =6\n",
    "# PERFECT NUMBER\n",
    "n = int(input())\n",
    "def perfect(n):\n",
    "    s = 0\n",
    "    for i in range(1,n):    #(1,5)\n",
    "        if(n % i == 0):     # 1        2        3    4(F)     5(F)\n",
    "            s = s + i       #1+1=1   1+2=3     3+3=6              \n",
    "    if(s == n):             #6==6\n",
    "        return True\n",
    "    else:\n",
    "        return False\n",
    "perfect(n)"
   ]
  },
  {
   "cell_type": "code",
   "execution_count": null,
   "metadata": {},
   "outputs": [],
   "source": [
    "# 1 to 100 ..... perfect numbers"
   ]
  },
  {
   "cell_type": "code",
   "execution_count": 10,
   "metadata": {},
   "outputs": [
    {
     "name": "stdout",
     "output_type": "stream",
     "text": [
      "1\n",
      "100\n",
      "6 28 "
     ]
    }
   ],
   "source": [
    "lb = int(input())\n",
    "up = int(input())\n",
    "def perfectrange(lb,up):\n",
    "    for i in range(lb,up+1):\n",
    "        if(perfect(i)):\n",
    "            print(i,end=' ')\n",
    "perfectrange(lb,up)"
   ]
  },
  {
   "cell_type": "code",
   "execution_count": null,
   "metadata": {},
   "outputs": [],
   "source": [
    "# Taks\n",
    "1. prime range... 1 to 100\n",
    "2. python program to find the sum of natural numbers(with function)\n",
    "3. factorial program(with function)\n",
    "4. swaping of two numbers(with function)"
   ]
  }
 ],
 "metadata": {
  "kernelspec": {
   "display_name": "Python 3",
   "language": "python",
   "name": "python3"
  },
  "language_info": {
   "codemirror_mode": {
    "name": "ipython",
    "version": 3
   },
   "file_extension": ".py",
   "mimetype": "text/x-python",
   "name": "python",
   "nbconvert_exporter": "python",
   "pygments_lexer": "ipython3",
   "version": "3.8.3"
  }
 },
 "nbformat": 4,
 "nbformat_minor": 4
}
